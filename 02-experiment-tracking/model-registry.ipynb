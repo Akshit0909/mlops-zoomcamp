{
 "cells": [
  {
   "cell_type": "markdown",
   "metadata": {},
   "source": [
    "## MLflow's Model Registry"
   ]
  },
  {
   "cell_type": "code",
   "execution_count": 1,
   "metadata": {},
   "outputs": [],
   "source": [
    "from mlflow.tracking import MlflowClient\n",
    "\n",
    "\n",
    "MLFLOW_TRACKING_URI = \"sqlite:///mlflow.db\""
   ]
  },
  {
   "cell_type": "markdown",
   "metadata": {},
   "source": [
    "### Interacting with the MLflow tracking server\n",
    "\n",
    "The `MlflowClient` object allows us to interact with...\n",
    "- an MLflow Tracking Server that creates and manages experiments and runs.\n",
    "- an MLflow Registry Server that creates and manages registered models and model versions. \n",
    "\n",
    "To instantiate it we need to pass a tracking URI and/or a registry URI"
   ]
  },
  {
   "cell_type": "code",
   "execution_count": 2,
   "metadata": {},
   "outputs": [
    {
     "data": {
      "text/plain": [
       "[<Experiment: artifact_location='./mlruns/0', experiment_id='0', lifecycle_stage='active', name='Default', tags={}>,\n",
       " <Experiment: artifact_location='./mlruns/1', experiment_id='1', lifecycle_stage='active', name='nyc-taxi-experiment', tags={}>]"
      ]
     },
     "execution_count": 2,
     "metadata": {},
     "output_type": "execute_result"
    }
   ],
   "source": [
    "client = MlflowClient(tracking_uri=MLFLOW_TRACKING_URI)\n",
    "\n",
    "client.list_experiments()"
   ]
  },
  {
   "cell_type": "code",
   "execution_count": 39,
   "metadata": {},
   "outputs": [
    {
     "data": {
      "text/plain": [
       "<Experiment: artifact_location='./mlruns/0', experiment_id='0', lifecycle_stage='active', name='Default', tags={}>"
      ]
     },
     "execution_count": 39,
     "metadata": {},
     "output_type": "execute_result"
    }
   ],
   "source": [
    "client.get_experiment_by_name(\"Default\")"
   ]
  },
  {
   "cell_type": "markdown",
   "metadata": {},
   "source": [
    "Just using API to do the same things as we did on the UI : this will be on the experiment page"
   ]
  },
  {
   "cell_type": "code",
   "execution_count": 3,
   "metadata": {},
   "outputs": [
    {
     "data": {
      "text/plain": [
       "'2'"
      ]
     },
     "execution_count": 3,
     "metadata": {},
     "output_type": "execute_result"
    }
   ],
   "source": [
    "client.create_experiment(name=\"my-cool-experiment\")"
   ]
  },
  {
   "cell_type": "markdown",
   "metadata": {},
   "source": [
    "Let's check the latest versions for the experiment with id `1`..."
   ]
  },
  {
   "cell_type": "code",
   "execution_count": 4,
   "metadata": {},
   "outputs": [],
   "source": [
    "from mlflow.entities import ViewType\n",
    "\n",
    "runs = client.search_runs(\n",
    "    experiment_ids='1', #1 is for NYC TAXI EXP\n",
    "    filter_string=\"metrics.rmse < 7\",\n",
    "    run_view_type=ViewType.ACTIVE_ONLY,\n",
    "    max_results=5,\n",
    "    order_by=[\"metrics.rmse ASC\"]\n",
    ")"
   ]
  },
  {
   "cell_type": "code",
   "execution_count": 36,
   "metadata": {},
   "outputs": [
    {
     "data": {
      "text/plain": [
       "'b72e6dbe671840aea38aae813ee9dd9e'"
      ]
     },
     "execution_count": 36,
     "metadata": {},
     "output_type": "execute_result"
    }
   ],
   "source": [
    "runs[0].info.run_id"
   ]
  },
  {
   "cell_type": "code",
   "execution_count": 5,
   "metadata": {},
   "outputs": [
    {
     "name": "stdout",
     "output_type": "stream",
     "text": [
      "run id: b72e6dbe671840aea38aae813ee9dd9e, rmse: 6.3851\n",
      "run id: 8140768d2c844330bae4cb9694ff5964, rmse: 6.3851\n",
      "run id: ea9469a3f8994598af846b194460a3d3, rmse: 6.4509\n",
      "run id: 0b7c8ac6a4734e91aa86136fed0cd55d, rmse: 6.4788\n",
      "run id: 0f3cf2d8914246e2ba8eac8573df44dc, rmse: 6.4825\n"
     ]
    }
   ],
   "source": [
    "for run in runs:\n",
    "    print(f\"run id: {run.info.run_id}, rmse: {run.data.metrics['rmse']:.4f}\")"
   ]
  },
  {
   "cell_type": "markdown",
   "metadata": {},
   "source": [
    "We found some good models using the API code"
   ]
  },
  {
   "cell_type": "markdown",
   "metadata": {},
   "source": [
    "### Interacting with the Model Registry\n",
    "\n",
    "In this section We will use the `MlflowClient` instance to:\n",
    "\n",
    "1. Register a new version for the experiment `nyc-taxi-regressor`\n",
    "2. Retrieve the latests versions of the model `nyc-taxi-regressor` and check that a new version `4` was created.\n",
    "3. Transition the version `4` to \"Staging\" and adding annotations to it."
   ]
  },
  {
   "cell_type": "code",
   "execution_count": 6,
   "metadata": {},
   "outputs": [],
   "source": [
    "import mlflow\n",
    "\n",
    "mlflow.set_tracking_uri(MLFLOW_TRACKING_URI)"
   ]
  },
  {
   "cell_type": "markdown",
   "metadata": {},
   "source": [
    "Registring a new version of the model under the same experiment(NYC TAXI) on the **registry page**"
   ]
  },
  {
   "cell_type": "code",
   "execution_count": 7,
   "metadata": {},
   "outputs": [
    {
     "name": "stderr",
     "output_type": "stream",
     "text": [
      "Registered model 'nyc-taxi-regressor' already exists. Creating a new version of this model...\n",
      "2022/05/28 01:35:01 INFO mlflow.tracking._model_registry.client: Waiting up to 300 seconds for model version to finish creation.                     Model name: nyc-taxi-regressor, version 2\n",
      "Created version '2' of model 'nyc-taxi-regressor'.\n"
     ]
    },
    {
     "data": {
      "text/plain": [
       "<ModelVersion: creation_timestamp=1653681901774, current_stage='None', description=None, last_updated_timestamp=1653681901774, name='nyc-taxi-regressor', run_id='b72e6dbe671840aea38aae813ee9dd9e', run_link=None, source='./mlruns/1/b72e6dbe671840aea38aae813ee9dd9e/artifacts/model', status='READY', status_message=None, tags={}, user_id=None, version=2>"
      ]
     },
     "execution_count": 7,
     "metadata": {},
     "output_type": "execute_result"
    }
   ],
   "source": [
    "run_id = \"b72e6dbe671840aea38aae813ee9dd9e\"\n",
    "model_uri = f\"runs:/{run_id}/model\"\n",
    "mlflow.register_model(model_uri=model_uri, name=\"nyc-taxi-regressor\")"
   ]
  },
  {
   "cell_type": "code",
   "execution_count": 8,
   "metadata": {},
   "outputs": [
    {
     "name": "stdout",
     "output_type": "stream",
     "text": [
      "version: 1, stage: Staging\n",
      "version: 2, stage: None\n"
     ]
    }
   ],
   "source": [
    "model_name = \"nyc-taxi-regressor\"\n",
    "latest_versions = client.get_latest_versions(name=model_name)\n",
    "\n",
    "for version in latest_versions:\n",
    "    print(f\"version: {version.version}, stage: {version.current_stage}\")"
   ]
  },
  {
   "cell_type": "markdown",
   "metadata": {},
   "source": [
    "Moving the unassigned model to **staging**"
   ]
  },
  {
   "cell_type": "code",
   "execution_count": 9,
   "metadata": {},
   "outputs": [
    {
     "data": {
      "text/plain": [
       "<ModelVersion: creation_timestamp=1653681901774, current_stage='Staging', description=None, last_updated_timestamp=1653682147976, name='nyc-taxi-regressor', run_id='b72e6dbe671840aea38aae813ee9dd9e', run_link=None, source='./mlruns/1/b72e6dbe671840aea38aae813ee9dd9e/artifacts/model', status='READY', status_message=None, tags={}, user_id=None, version=2>"
      ]
     },
     "execution_count": 9,
     "metadata": {},
     "output_type": "execute_result"
    }
   ],
   "source": [
    "model_version = 2\n",
    "new_stage = \"Staging\"\n",
    "client.transition_model_version_stage(\n",
    "    name=model_name,\n",
    "    version=model_version,\n",
    "    stage=new_stage,\n",
    "    archive_existing_versions=False\n",
    ")"
   ]
  },
  {
   "cell_type": "markdown",
   "metadata": {},
   "source": [
    "Adding this transition's description on model registry page: It will show in the description of Model 2 whose stage we changed"
   ]
  },
  {
   "cell_type": "code",
   "execution_count": 10,
   "metadata": {},
   "outputs": [
    {
     "data": {
      "text/plain": [
       "<ModelVersion: creation_timestamp=1653681901774, current_stage='Staging', description='The model version 2 was transitioned to Staging on 2022-05-28', last_updated_timestamp=1653682334734, name='nyc-taxi-regressor', run_id='b72e6dbe671840aea38aae813ee9dd9e', run_link=None, source='./mlruns/1/b72e6dbe671840aea38aae813ee9dd9e/artifacts/model', status='READY', status_message=None, tags={}, user_id=None, version=2>"
      ]
     },
     "execution_count": 10,
     "metadata": {},
     "output_type": "execute_result"
    }
   ],
   "source": [
    "from datetime import datetime\n",
    "\n",
    "date = datetime.today().date()\n",
    "client.update_model_version(\n",
    "    name=model_name,\n",
    "    version=model_version,\n",
    "    description=f\"The model version {model_version} was transitioned to {new_stage} on {date}\"\n",
    ")"
   ]
  },
  {
   "cell_type": "markdown",
   "metadata": {},
   "source": [
    "Move the staging model to production"
   ]
  },
  {
   "cell_type": "code",
   "execution_count": 18,
   "metadata": {},
   "outputs": [
    {
     "data": {
      "text/plain": [
       "<ModelVersion: creation_timestamp=1653681901774, current_stage='Production', description='The model version 2 was transitioned to Production on 2022-05-28', last_updated_timestamp=1653683025564, name='nyc-taxi-regressor', run_id='b72e6dbe671840aea38aae813ee9dd9e', run_link=None, source='./mlruns/1/b72e6dbe671840aea38aae813ee9dd9e/artifacts/model', status='READY', status_message=None, tags={}, user_id=None, version=2>"
      ]
     },
     "execution_count": 18,
     "metadata": {},
     "output_type": "execute_result"
    }
   ],
   "source": [
    "model_version = 2\n",
    "new_stage = \"Production\"\n",
    "client.transition_model_version_stage(\n",
    "    name=model_name,\n",
    "    version=model_version,\n",
    "    stage=new_stage,\n",
    "    archive_existing_versions=False\n",
    ")\n",
    "\n",
    "date = datetime.today().date()\n",
    "client.update_model_version(\n",
    "    name=model_name,\n",
    "    version=model_version,\n",
    "    description=f\"The model version {model_version} was transitioned to {new_stage} on {date}\"\n",
    ")"
   ]
  },
  {
   "cell_type": "markdown",
   "metadata": {},
   "source": [
    "### Comparing versions and selecting the new \"Production\" model\n",
    "\n",
    "In the last section, we will retrieve models registered in the model registry and compare their performance on an unseen test set. The idea is to simulate the scenario in which a deployment engineer has to interact with the model registry to decide whether to update the model version that is in production or not.\n",
    "\n",
    "These are the steps:\n",
    "\n",
    "1. Load the test dataset, which corresponds to the NYC Green Taxi data from the month of March 2021.\n",
    "2. Download the `DictVectorizer` that was fitted using the training data and saved to MLflow as an artifact, and load it with pickle.\n",
    "3. Preprocess the test set using the `DictVectorizer` so we can properly feed the regressors.\n",
    "4. Make predictions on the test set using the model versions that are currently in the \"Staging\" and \"Production\" stages, and compare their performance.\n",
    "5. Based on the results, update the \"Production\" model version accordingly.\n",
    "\n",
    "\n",
    "**Note: the model registry doesn't actually deploy the model to production when you transition a model to the \"Production\" stage, it just assign a label to that model version. You should complement the registry with some CI/CD code that does the actual deployment.**"
   ]
  },
  {
   "cell_type": "code",
   "execution_count": 29,
   "metadata": {},
   "outputs": [],
   "source": [
    "from sklearn.metrics import mean_squared_error\n",
    "import pandas as pd\n",
    "\n",
    "\n",
    "def read_dataframe(filename):\n",
    "    df = pd.read_parquet(filename)\n",
    "\n",
    "    df.lpep_dropoff_datetime = pd.to_datetime(df.lpep_dropoff_datetime)\n",
    "    df.lpep_pickup_datetime = pd.to_datetime(df.lpep_pickup_datetime)\n",
    "\n",
    "    df['duration'] = df.lpep_dropoff_datetime - df.lpep_pickup_datetime\n",
    "    df.duration = df.duration.apply(lambda td: td.total_seconds() / 60)\n",
    "\n",
    "    df = df[(df.duration >= 1) & (df.duration <= 60)]\n",
    "\n",
    "    categorical = ['PULocationID', 'DOLocationID']\n",
    "    df[categorical] = df[categorical].astype(str)\n",
    "    \n",
    "    return df\n",
    "\n",
    "\n",
    "def preprocess(df, dv):\n",
    "    df['PU_DO'] = df['PULocationID'] + '_' + df['DOLocationID']\n",
    "    categorical = ['PU_DO']\n",
    "    numerical = ['trip_distance']\n",
    "    train_dicts = df[categorical + numerical].to_dict(orient='records')\n",
    "    return dv.transform(train_dicts)\n",
    "\n",
    "\n",
    "def test_model(name, stage, X_test, y_test):\n",
    "    model = mlflow.pyfunc.load_model(f\"models:/{name}/{stage}\")\n",
    "    y_pred = model.predict(X_test)\n",
    "    return {\"rmse\": mean_squared_error(y_test, y_pred, squared=False)}"
   ]
  },
  {
   "cell_type": "code",
   "execution_count": 21,
   "metadata": {},
   "outputs": [],
   "source": [
    "df = read_dataframe(\"data/green_tripdata_2021-03.parquet\")"
   ]
  },
  {
   "cell_type": "code",
   "execution_count": 22,
   "metadata": {},
   "outputs": [
    {
     "data": {
      "text/plain": [
       "'d:\\\\Akshit\\\\MLOPS - Zoomcamp\\\\mlops-zoomcamp\\\\02-experiment-tracking\\\\preprocessor'"
      ]
     },
     "execution_count": 22,
     "metadata": {},
     "output_type": "execute_result"
    }
   ],
   "source": [
    "client.download_artifacts(run_id=run_id, path='preprocessor', dst_path='.')"
   ]
  },
  {
   "cell_type": "code",
   "execution_count": 23,
   "metadata": {},
   "outputs": [],
   "source": [
    "import pickle\n",
    "\n",
    "with open(\"preprocessor/preprocessor.b\", \"rb\") as f_in:\n",
    "    dv = pickle.load(f_in)"
   ]
  },
  {
   "cell_type": "code",
   "execution_count": 24,
   "metadata": {},
   "outputs": [],
   "source": [
    "X_test = preprocess(df, dv)"
   ]
  },
  {
   "cell_type": "code",
   "execution_count": 25,
   "metadata": {},
   "outputs": [],
   "source": [
    "target = \"duration\"\n",
    "y_test = df[target].values"
   ]
  },
  {
   "cell_type": "code",
   "execution_count": 30,
   "metadata": {},
   "outputs": [
    {
     "name": "stdout",
     "output_type": "stream",
     "text": [
      "models:/nyc-taxi-regressor/Production\n"
     ]
    },
    {
     "ename": "OSError",
     "evalue": "No such file or directory: '.\\mlruns\\1\\b72e6dbe671840aea38aae813ee9dd9e\\artifacts\\model\\.'",
     "output_type": "error",
     "traceback": [
      "\u001b[1;31m---------------------------------------------------------------------------\u001b[0m",
      "\u001b[1;31mOSError\u001b[0m                                   Traceback (most recent call last)",
      "File \u001b[1;32m<timed eval>:1\u001b[0m, in \u001b[0;36m<module>\u001b[1;34m\u001b[0m\n",
      "\u001b[1;32md:\\Akshit\\MLOPS - Zoomcamp\\mlops-zoomcamp\\02-experiment-tracking\\model-registry.ipynb Cell 23'\u001b[0m in \u001b[0;36mtest_model\u001b[1;34m(name, stage, X_test, y_test)\u001b[0m\n\u001b[0;32m     <a href='vscode-notebook-cell:/d%3A/Akshit/MLOPS%20-%20Zoomcamp/mlops-zoomcamp/02-experiment-tracking/model-registry.ipynb#ch0000018?line=29'>30</a>\u001b[0m \u001b[39mdef\u001b[39;00m \u001b[39mtest_model\u001b[39m(name, stage, X_test, y_test):\n\u001b[0;32m     <a href='vscode-notebook-cell:/d%3A/Akshit/MLOPS%20-%20Zoomcamp/mlops-zoomcamp/02-experiment-tracking/model-registry.ipynb#ch0000018?line=30'>31</a>\u001b[0m     \u001b[39mprint\u001b[39m(\u001b[39mf\u001b[39m\u001b[39m\"\u001b[39m\u001b[39mmodels:/\u001b[39m\u001b[39m{\u001b[39;00mname\u001b[39m}\u001b[39;00m\u001b[39m/\u001b[39m\u001b[39m{\u001b[39;00mstage\u001b[39m}\u001b[39;00m\u001b[39m\"\u001b[39m)\n\u001b[1;32m---> <a href='vscode-notebook-cell:/d%3A/Akshit/MLOPS%20-%20Zoomcamp/mlops-zoomcamp/02-experiment-tracking/model-registry.ipynb#ch0000018?line=31'>32</a>\u001b[0m     model \u001b[39m=\u001b[39m mlflow\u001b[39m.\u001b[39;49mpyfunc\u001b[39m.\u001b[39;49mload_model(\u001b[39mf\u001b[39;49m\u001b[39m\"\u001b[39;49m\u001b[39mmodels:/\u001b[39;49m\u001b[39m{\u001b[39;49;00mname\u001b[39m}\u001b[39;49;00m\u001b[39m/\u001b[39;49m\u001b[39m{\u001b[39;49;00mstage\u001b[39m}\u001b[39;49;00m\u001b[39m\"\u001b[39;49m)\n\u001b[0;32m     <a href='vscode-notebook-cell:/d%3A/Akshit/MLOPS%20-%20Zoomcamp/mlops-zoomcamp/02-experiment-tracking/model-registry.ipynb#ch0000018?line=32'>33</a>\u001b[0m     y_pred \u001b[39m=\u001b[39m model\u001b[39m.\u001b[39mpredict(X_test)\n\u001b[0;32m     <a href='vscode-notebook-cell:/d%3A/Akshit/MLOPS%20-%20Zoomcamp/mlops-zoomcamp/02-experiment-tracking/model-registry.ipynb#ch0000018?line=33'>34</a>\u001b[0m     \u001b[39mreturn\u001b[39;00m {\u001b[39m\"\u001b[39m\u001b[39mrmse\u001b[39m\u001b[39m\"\u001b[39m: mean_squared_error(y_test, y_pred, squared\u001b[39m=\u001b[39m\u001b[39mFalse\u001b[39;00m)}\n",
      "File \u001b[1;32mc:\\Users\\akshit73\\anaconda3\\envs\\exp-tracking-env\\lib\\site-packages\\mlflow\\pyfunc\\__init__.py:716\u001b[0m, in \u001b[0;36mload_model\u001b[1;34m(model_uri, suppress_warnings, dst_path)\u001b[0m\n\u001b[0;32m    <a href='file:///c%3A/Users/akshit73/anaconda3/envs/exp-tracking-env/lib/site-packages/mlflow/pyfunc/__init__.py?line=689'>690</a>\u001b[0m \u001b[39mdef\u001b[39;00m \u001b[39mload_model\u001b[39m(\n\u001b[0;32m    <a href='file:///c%3A/Users/akshit73/anaconda3/envs/exp-tracking-env/lib/site-packages/mlflow/pyfunc/__init__.py?line=690'>691</a>\u001b[0m     model_uri: \u001b[39mstr\u001b[39m, suppress_warnings: \u001b[39mbool\u001b[39m \u001b[39m=\u001b[39m \u001b[39mFalse\u001b[39;00m, dst_path: \u001b[39mstr\u001b[39m \u001b[39m=\u001b[39m \u001b[39mNone\u001b[39;00m\n\u001b[0;32m    <a href='file:///c%3A/Users/akshit73/anaconda3/envs/exp-tracking-env/lib/site-packages/mlflow/pyfunc/__init__.py?line=691'>692</a>\u001b[0m ) \u001b[39m-\u001b[39m\u001b[39m>\u001b[39m PyFuncModel:\n\u001b[0;32m    <a href='file:///c%3A/Users/akshit73/anaconda3/envs/exp-tracking-env/lib/site-packages/mlflow/pyfunc/__init__.py?line=692'>693</a>\u001b[0m     \u001b[39m\"\"\"\u001b[39;00m\n\u001b[0;32m    <a href='file:///c%3A/Users/akshit73/anaconda3/envs/exp-tracking-env/lib/site-packages/mlflow/pyfunc/__init__.py?line=693'>694</a>\u001b[0m \u001b[39m    Load a model stored in Python function format.\u001b[39;00m\n\u001b[0;32m    <a href='file:///c%3A/Users/akshit73/anaconda3/envs/exp-tracking-env/lib/site-packages/mlflow/pyfunc/__init__.py?line=694'>695</a>\u001b[0m \n\u001b[1;32m   (...)\u001b[0m\n\u001b[0;32m    <a href='file:///c%3A/Users/akshit73/anaconda3/envs/exp-tracking-env/lib/site-packages/mlflow/pyfunc/__init__.py?line=713'>714</a>\u001b[0m \u001b[39m                     path will be created.\u001b[39;00m\n\u001b[0;32m    <a href='file:///c%3A/Users/akshit73/anaconda3/envs/exp-tracking-env/lib/site-packages/mlflow/pyfunc/__init__.py?line=714'>715</a>\u001b[0m \u001b[39m    \"\"\"\u001b[39;00m\n\u001b[1;32m--> <a href='file:///c%3A/Users/akshit73/anaconda3/envs/exp-tracking-env/lib/site-packages/mlflow/pyfunc/__init__.py?line=715'>716</a>\u001b[0m     local_path \u001b[39m=\u001b[39m _download_artifact_from_uri(artifact_uri\u001b[39m=\u001b[39;49mmodel_uri, output_path\u001b[39m=\u001b[39;49mdst_path)\n\u001b[0;32m    <a href='file:///c%3A/Users/akshit73/anaconda3/envs/exp-tracking-env/lib/site-packages/mlflow/pyfunc/__init__.py?line=717'>718</a>\u001b[0m     \u001b[39mif\u001b[39;00m \u001b[39mnot\u001b[39;00m suppress_warnings:\n\u001b[0;32m    <a href='file:///c%3A/Users/akshit73/anaconda3/envs/exp-tracking-env/lib/site-packages/mlflow/pyfunc/__init__.py?line=718'>719</a>\u001b[0m         _warn_dependency_requirement_mismatches(local_path)\n",
      "File \u001b[1;32mc:\\Users\\akshit73\\anaconda3\\envs\\exp-tracking-env\\lib\\site-packages\\mlflow\\tracking\\artifact_utils.py:95\u001b[0m, in \u001b[0;36m_download_artifact_from_uri\u001b[1;34m(artifact_uri, output_path)\u001b[0m\n\u001b[0;32m     <a href='file:///c%3A/Users/akshit73/anaconda3/envs/exp-tracking-env/lib/site-packages/mlflow/tracking/artifact_utils.py?line=91'>92</a>\u001b[0m     parsed_uri \u001b[39m=\u001b[39m parsed_uri\u001b[39m.\u001b[39m_replace(path\u001b[39m=\u001b[39mposixpath\u001b[39m.\u001b[39mdirname(parsed_uri\u001b[39m.\u001b[39mpath))\n\u001b[0;32m     <a href='file:///c%3A/Users/akshit73/anaconda3/envs/exp-tracking-env/lib/site-packages/mlflow/tracking/artifact_utils.py?line=92'>93</a>\u001b[0m     root_uri \u001b[39m=\u001b[39m prefix \u001b[39m+\u001b[39m urllib\u001b[39m.\u001b[39mparse\u001b[39m.\u001b[39murlunparse(parsed_uri)\n\u001b[1;32m---> <a href='file:///c%3A/Users/akshit73/anaconda3/envs/exp-tracking-env/lib/site-packages/mlflow/tracking/artifact_utils.py?line=94'>95</a>\u001b[0m \u001b[39mreturn\u001b[39;00m get_artifact_repository(artifact_uri\u001b[39m=\u001b[39;49mroot_uri)\u001b[39m.\u001b[39;49mdownload_artifacts(\n\u001b[0;32m     <a href='file:///c%3A/Users/akshit73/anaconda3/envs/exp-tracking-env/lib/site-packages/mlflow/tracking/artifact_utils.py?line=95'>96</a>\u001b[0m     artifact_path\u001b[39m=\u001b[39;49martifact_path, dst_path\u001b[39m=\u001b[39;49moutput_path\n\u001b[0;32m     <a href='file:///c%3A/Users/akshit73/anaconda3/envs/exp-tracking-env/lib/site-packages/mlflow/tracking/artifact_utils.py?line=96'>97</a>\u001b[0m )\n",
      "File \u001b[1;32mc:\\Users\\akshit73\\anaconda3\\envs\\exp-tracking-env\\lib\\site-packages\\mlflow\\store\\artifact\\models_artifact_repo.py:111\u001b[0m, in \u001b[0;36mModelsArtifactRepository.download_artifacts\u001b[1;34m(self, artifact_path, dst_path)\u001b[0m\n\u001b[0;32m     <a href='file:///c%3A/Users/akshit73/anaconda3/envs/exp-tracking-env/lib/site-packages/mlflow/store/artifact/models_artifact_repo.py?line=95'>96</a>\u001b[0m \u001b[39mdef\u001b[39;00m \u001b[39mdownload_artifacts\u001b[39m(\u001b[39mself\u001b[39m, artifact_path, dst_path\u001b[39m=\u001b[39m\u001b[39mNone\u001b[39;00m):\n\u001b[0;32m     <a href='file:///c%3A/Users/akshit73/anaconda3/envs/exp-tracking-env/lib/site-packages/mlflow/store/artifact/models_artifact_repo.py?line=96'>97</a>\u001b[0m     \u001b[39m\"\"\"\u001b[39;00m\n\u001b[0;32m     <a href='file:///c%3A/Users/akshit73/anaconda3/envs/exp-tracking-env/lib/site-packages/mlflow/store/artifact/models_artifact_repo.py?line=97'>98</a>\u001b[0m \u001b[39m    Download an artifact file or directory to a local directory if applicable, and return a\u001b[39;00m\n\u001b[0;32m     <a href='file:///c%3A/Users/akshit73/anaconda3/envs/exp-tracking-env/lib/site-packages/mlflow/store/artifact/models_artifact_repo.py?line=98'>99</a>\u001b[0m \u001b[39m    local path for it.\u001b[39;00m\n\u001b[1;32m   (...)\u001b[0m\n\u001b[0;32m    <a href='file:///c%3A/Users/akshit73/anaconda3/envs/exp-tracking-env/lib/site-packages/mlflow/store/artifact/models_artifact_repo.py?line=108'>109</a>\u001b[0m \u001b[39m    :return: Absolute path of the local filesystem location containing the desired artifacts.\u001b[39;00m\n\u001b[0;32m    <a href='file:///c%3A/Users/akshit73/anaconda3/envs/exp-tracking-env/lib/site-packages/mlflow/store/artifact/models_artifact_repo.py?line=109'>110</a>\u001b[0m \u001b[39m    \"\"\"\u001b[39;00m\n\u001b[1;32m--> <a href='file:///c%3A/Users/akshit73/anaconda3/envs/exp-tracking-env/lib/site-packages/mlflow/store/artifact/models_artifact_repo.py?line=110'>111</a>\u001b[0m     \u001b[39mreturn\u001b[39;00m \u001b[39mself\u001b[39;49m\u001b[39m.\u001b[39;49mrepo\u001b[39m.\u001b[39;49mdownload_artifacts(artifact_path, dst_path)\n",
      "File \u001b[1;32mc:\\Users\\akshit73\\anaconda3\\envs\\exp-tracking-env\\lib\\site-packages\\mlflow\\store\\artifact\\local_artifact_repo.py:79\u001b[0m, in \u001b[0;36mLocalArtifactRepository.download_artifacts\u001b[1;34m(self, artifact_path, dst_path)\u001b[0m\n\u001b[0;32m     <a href='file:///c%3A/Users/akshit73/anaconda3/envs/exp-tracking-env/lib/site-packages/mlflow/store/artifact/local_artifact_repo.py?line=76'>77</a>\u001b[0m local_artifact_path \u001b[39m=\u001b[39m os\u001b[39m.\u001b[39mpath\u001b[39m.\u001b[39mjoin(\u001b[39mself\u001b[39m\u001b[39m.\u001b[39martifact_dir, os\u001b[39m.\u001b[39mpath\u001b[39m.\u001b[39mnormpath(artifact_path))\n\u001b[0;32m     <a href='file:///c%3A/Users/akshit73/anaconda3/envs/exp-tracking-env/lib/site-packages/mlflow/store/artifact/local_artifact_repo.py?line=77'>78</a>\u001b[0m \u001b[39mif\u001b[39;00m \u001b[39mnot\u001b[39;00m os\u001b[39m.\u001b[39mpath\u001b[39m.\u001b[39mexists(local_artifact_path):\n\u001b[1;32m---> <a href='file:///c%3A/Users/akshit73/anaconda3/envs/exp-tracking-env/lib/site-packages/mlflow/store/artifact/local_artifact_repo.py?line=78'>79</a>\u001b[0m     \u001b[39mraise\u001b[39;00m \u001b[39mIOError\u001b[39;00m(\u001b[39m\"\u001b[39m\u001b[39mNo such file or directory: \u001b[39m\u001b[39m'\u001b[39m\u001b[39m{}\u001b[39;00m\u001b[39m'\u001b[39m\u001b[39m\"\u001b[39m\u001b[39m.\u001b[39mformat(local_artifact_path))\n\u001b[0;32m     <a href='file:///c%3A/Users/akshit73/anaconda3/envs/exp-tracking-env/lib/site-packages/mlflow/store/artifact/local_artifact_repo.py?line=79'>80</a>\u001b[0m \u001b[39mreturn\u001b[39;00m os\u001b[39m.\u001b[39mpath\u001b[39m.\u001b[39mabspath(local_artifact_path)\n",
      "\u001b[1;31mOSError\u001b[0m: No such file or directory: '.\\mlruns\\1\\b72e6dbe671840aea38aae813ee9dd9e\\artifacts\\model\\.'"
     ]
    }
   ],
   "source": [
    "%time test_model(name=model_name, stage=\"Production\", X_test=X_test, y_test=y_test)"
   ]
  },
  {
   "cell_type": "code",
   "execution_count": 28,
   "metadata": {},
   "outputs": [
    {
     "name": "stdout",
     "output_type": "stream",
     "text": [
      "[02:06:24] WARNING: C:/Users/Administrator/workspace/xgboost-win64_release_1.6.0/src/objective/regression_obj.cu:203: reg:linear is now deprecated in favor of reg:squarederror.\n",
      "CPU times: total: 8 s\n",
      "Wall time: 4.01 s\n"
     ]
    },
    {
     "data": {
      "text/plain": [
       "{'rmse': 6.337778182719715}"
      ]
     },
     "execution_count": 28,
     "metadata": {},
     "output_type": "execute_result"
    }
   ],
   "source": [
    "%time test_model(name=model_name, stage=\"Staging\", X_test=X_test, y_test=y_test)"
   ]
  },
  {
   "cell_type": "code",
   "execution_count": 43,
   "metadata": {},
   "outputs": [
    {
     "data": {
      "text/plain": [
       "<ModelVersion: creation_timestamp=1652971637398, current_stage='Production', description='The model version 4 was transitioned to Staging on 2022-05-19', last_updated_timestamp=1652972763255, name='nyc-taxi-regressor', run_id='b8904012c84343b5bf8ee72aa8f0f402', run_link=None, source='./mlruns/1/b8904012c84343b5bf8ee72aa8f0f402/artifacts/model', status='READY', status_message=None, tags={}, user_id=None, version=4>"
      ]
     },
     "execution_count": 43,
     "metadata": {},
     "output_type": "execute_result"
    }
   ],
   "source": [
    "client.transition_model_version_stage(\n",
    "    name=model_name,\n",
    "    version=4,\n",
    "    stage=\"Production\",\n",
    "    archive_existing_versions=True\n",
    ")"
   ]
  },
  {
   "cell_type": "code",
   "execution_count": null,
   "metadata": {},
   "outputs": [],
   "source": []
  },
  {
   "cell_type": "code",
   "execution_count": null,
   "metadata": {},
   "outputs": [],
   "source": []
  }
 ],
 "metadata": {
  "interpreter": {
   "hash": "e6b721d063d35a739a31da4d46d142cf20b1a75373beca3d0e50133282fbfcb8"
  },
  "kernelspec": {
   "display_name": "Python 3.8.5 ('exp-tracking-env')",
   "language": "python",
   "name": "python3"
  },
  "language_info": {
   "codemirror_mode": {
    "name": "ipython",
    "version": 3
   },
   "file_extension": ".py",
   "mimetype": "text/x-python",
   "name": "python",
   "nbconvert_exporter": "python",
   "pygments_lexer": "ipython3",
   "version": "3.8.5"
  },
  "orig_nbformat": 4
 },
 "nbformat": 4,
 "nbformat_minor": 2
}
